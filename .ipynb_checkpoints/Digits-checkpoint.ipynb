{
 "cells": [
  {
   "cell_type": "code",
   "execution_count": 22,
   "metadata": {},
   "outputs": [],
   "source": [
    "import os\n",
    "import numpy as np\n",
    "import matplotlib.pyplot as plt\n",
    "import numpy.linalg as la\n",
    "\n",
    "i_train = open(os.path.join('digitdata','trainingimages'),'r')\n",
    "i_train_label = open(os.path.join('digitdata','traininglabels'),'r')\n",
    "i_test = open(os.path.join('digitdata','testimages'),'r')\n",
    "i_test_label = open(os.path.join('digitdata','testlabels'),'r')\n",
    "i_val = open(os.path.join('digitdata','validationimages'),'r')\n",
    "i_val_label = open(os.path.join('digitdata','validationlabels'),'r') "
   ]
  },
  {
   "cell_type": "code",
   "execution_count": 23,
   "metadata": {},
   "outputs": [],
   "source": [
    "def makelabels(file,num):\n",
    "    labels = np.zeros(num)\n",
    "    for i in range(num):\n",
    "        c = file.read(1)\n",
    "        labels[i] = int(c)\n",
    "        c_we = file.read(1)\n",
    "    return labels\n",
    "        \n",
    "def makeimages(file,num,height,width):\n",
    "    train = np.zeros((num,height,width))\n",
    "    for k in range(num):\n",
    "        img = np.zeros((height,width))\n",
    "        for i in range(height):\n",
    "            for j in range(width):\n",
    "                c = file.read(1)\n",
    "                if c == '#':\n",
    "                    img[i][j] = 255\n",
    "                elif c == '+':\n",
    "                    img[i][j] = 128\n",
    "            c = file.read(1)\n",
    "        train[k,:,:] = img\n",
    "    return train"
   ]
  },
  {
   "cell_type": "markdown",
   "metadata": {},
   "source": [
    "## Create Train and Test Sets \n",
    "### Display Sample Image"
   ]
  },
  {
   "cell_type": "code",
   "execution_count": 24,
   "metadata": {},
   "outputs": [
    {
     "data": {
      "text/plain": [
       "<matplotlib.image.AxesImage at 0x2bb30df3550>"
      ]
     },
     "execution_count": 24,
     "metadata": {},
     "output_type": "execute_result"
    },
    {
     "data": {
      "image/png": "[encoded data removed]",
      "text/plain": [
       "<Figure size 432x288 with 1 Axes>"
      ]
     },
     "metadata": {
      "needs_background": "light"
     },
     "output_type": "display_data"
    }
   ],
   "source": [
    "train = makeimages(i_train,5000,28,28)\n",
    "train_labels = makelabels(i_train_label,5000)\n",
    "test = makeimages(i_test,1000,28,28)\n",
    "test_labels = makelabels(i_test_label,1000)\n",
    "val = makeimages(i_val,1000,28,28)\n",
    "val_labels = makelabels(i_val_label,1000)\n",
    "%matplotlib inline\n",
    "plt.imshow(train[305],cmap='gray')"
   ]
  },
  {
   "cell_type": "code",
   "execution_count": 25,
   "metadata": {},
   "outputs": [],
   "source": [
    "train = np.array([i.flatten() for i in train])\n",
    "test = np.array([i.flatten() for i in test]) \n",
    "train_MxN = train.transpose()\n",
    "test_MxN = test.transpose()"
   ]
  },
  {
   "cell_type": "markdown",
   "metadata": {},
   "source": [
    "# Naive Bayes Classifier using discrete pixel probabilities"
   ]
  },
  {
   "cell_type": "code",
   "execution_count": 26,
   "metadata": {},
   "outputs": [],
   "source": [
    "# ------------------ NAIVE BAYES CLASSIFIER --------------------\n",
    "\n",
    "def NBC(data,labels,testdata):\n",
    "    numFeat = data.shape[0]\n",
    "    LabelData = [{'class':x, 'index':i} for i,x in enumerate(labels)] \n",
    "    #print(LabelData)\n",
    "    ClassData = []\n",
    "    numclasses = 10\n",
    "    for i in range(numclasses):\n",
    "        newclass = list(filter(lambda x: x['class']==i, LabelData))\n",
    "        ClassData.append(newclass)\n",
    "       \n",
    "    P = []\n",
    "    for i in range(numclasses):\n",
    "        newp = len(ClassData[i])/len(LabelData)\n",
    "        P.append(newp)\n",
    "        \n",
    "    #M = stddata.shape[0]\n",
    "    probFeat = np.zeros((numclasses,numFeat,3))\n",
    "    ClassFeat = np.zeros((numclasses,numFeat,3))\n",
    "           \n",
    "    for k in range(numclasses):\n",
    "        for i in range(len(ClassData[k])):\n",
    "            idx = ClassData[k][i]['index']\n",
    "            for j in range(numFeat):\n",
    "                if data[j][idx] == 0:\n",
    "                    ClassFeat[k][j][0] += 1\n",
    "                elif data[j][idx] == 128:\n",
    "                    ClassFeat[k][j][1] += 1\n",
    "                else:\n",
    "                    ClassFeat[k][j][2] += 1\n",
    "                #ClassFeat[k][j].append(features_n[j][idx])\n",
    "        #print(ClassFeat[k])\n",
    "        for j in range(numFeat):\n",
    "            probFeat[k][j][0] = ClassFeat[k][j][0]/len(ClassData[k])\n",
    "            probFeat[k][j][1] = ClassFeat[k][j][1]/len(ClassData[k])\n",
    "            probFeat[k][j][2] = ClassFeat[k][j][2]/len(ClassData[k])\n",
    "            #assert (probFeat[k][j][0] + probFeat[k][j][1] + probFeat[k][j][2]) == 1\n",
    "        #print(probFeat[k][455])\n",
    "                  \n",
    "    predictions = []\n",
    "    \n",
    "    for i in range(testdata.shape[1]):\n",
    "        p = []\n",
    "        for k in range(numclasses):\n",
    "            pclass = P[k]\n",
    "            for j in range(150,640):\n",
    "                if testdata[j][i] == 0:\n",
    "                    pclass = pclass * probFeat[k][j][0]\n",
    "                elif testdata[j][i] == 128:\n",
    "                    pclass = pclass * probFeat[k][j][1]\n",
    "                else:\n",
    "                    pclass = pclass * probFeat[k][j][2]\n",
    "                #pclass = pclass * probGaussian(features[j][i],meanClass[k][j],stdClass[k][j])\n",
    "            p.append(pclass)\n",
    "        predictions.append(p.index(max(p)))\n",
    "    return predictions\n",
    "\n",
    "def counterror(pred,labels):\n",
    "    count = 0;\n",
    "    for i in range(len(pred)):\n",
    "        if (pred[i] != int(labels[i])):\n",
    "            count = count +1\n",
    "    acc = 1 - count/labels.shape[0]\n",
    "    return count, acc"
   ]
  },
  {
   "cell_type": "code",
   "execution_count": 27,
   "metadata": {},
   "outputs": [
    {
     "name": "stdout",
     "output_type": "stream",
     "text": [
      "NBC Accuracy is:  0.759\n",
      "Time is:  10.049289099999896\n"
     ]
    }
   ],
   "source": [
    "start_time = time.clock()\n",
    "pred = NBC(train_MxN, train_labels, test_MxN)\n",
    "time_ = time.clock() - start_time\n",
    "errorcount, accu = counterror(pred,test_labels)\n",
    "print(\"NBC Accuracy is: \", accu)\n",
    "print(\"Time is: \", time_)"
   ]
  },
  {
   "cell_type": "markdown",
   "metadata": {},
   "source": [
    "# Perceptron using Sigmoid Activation Function"
   ]
  },
  {
   "cell_type": "code",
   "execution_count": 28,
   "metadata": {},
   "outputs": [],
   "source": [
    "# ------------------- PERCEPTRON using Sigmoid Activation --------------\n",
    "\n",
    "NUM_CLASSES = 10\n",
    "\n",
    "def predict1(row, weights):\n",
    "    x = weights[0]\n",
    "    for i in range(len(row)-1):\n",
    "        x += weights[i + 1] * row[i]\n",
    "    activation = 1 / (1 + np.exp(-x))\n",
    "    return activation\n",
    "\n",
    "# Estimate Perceptron weights using stochastic gradient descent\n",
    "def train_weights(train, l_rate, n_epoch):\n",
    "    CORRECT_PRED = True\n",
    "    weights = np.zeros((NUM_CLASSES,len(train[0])))\n",
    "    for epoch in range(n_epoch):\n",
    "        sum_error = 0.0\n",
    "        for row in train:\n",
    "            prediction = []\n",
    "            for i in range(NUM_CLASSES):\n",
    "                prediction.append(predict1(row, weights[i,:]))\n",
    "            max_act_fn = max(prediction)\n",
    "            pred_label = prediction.index(max_act_fn)\n",
    "            actual_label = row[-1]\n",
    "            if(pred_label != actual_label):\n",
    "                CORRECT_PRED = False\n",
    "                sum_error += 1\n",
    "            error = np.zeros(NUM_CLASSES)\n",
    "            for i in range(NUM_CLASSES):\n",
    "                if (i==pred_label) and (CORRECT_PRED):\n",
    "                    ground_truth = 1\n",
    "                    my_pred = 1\n",
    "                elif (i==pred_label) and (not CORRECT_PRED):\n",
    "                    ground_truth = 0\n",
    "                    my_pred = 1\n",
    "                elif (i==actual_label) and (not CORRECT_PRED):\n",
    "                    ground_truth = 1\n",
    "                    my_pred = 0\n",
    "                else:\n",
    "                    ground_truth = 0\n",
    "                    my_pred = 0\n",
    "                #print(\"class: \"+str(i))\n",
    "                #print(\"actual label: \" +str(actual_label))\n",
    "                #print(\"pred label: \" +str(pred_label))\n",
    "                #print(\"ground_truth: \" +str(ground_truth))\n",
    "                #print(\"my_pred: \" +str(my_pred))\n",
    "                error[i] = ground_truth - my_pred\n",
    "                #print(\"sum_error: \"+str(sum_error))\n",
    "                weights[i,0] = weights[i,0] + l_rate * error[i]\n",
    "                for j in range(len(row)-1):\n",
    "                    weights[i,j + 1] = weights[i,j + 1] + l_rate * error[i] * row[j]\n",
    "        print('>epoch=%d, lrate=%.3f, error=%.3f' % (epoch, l_rate, sum_error))\n",
    "    return weights\n",
    "\n",
    "# Perceptron Algorithm With Stochastic Gradient Descent\n",
    "def perceptron(train, test, l_rate, n_epoch):\n",
    "    predictions = []\n",
    "    weights = train_weights(train, l_rate, n_epoch)\n",
    "    for row in test:\n",
    "        pred = []\n",
    "        for i in range(NUM_CLASSES):\n",
    "            pred.append(predict(row, weights[i, :]))\n",
    "        max_act_fn = max(pred)\n",
    "        pred_label = pred.index(max_act_fn)\n",
    "        predictions.append(pred_label)\n",
    "    return(predictions)\n",
    "\n",
    "def accuracy(expected, predicted):\n",
    "    error_count = 0\n",
    "    for i in range(0, len(expected)):\n",
    "        if(predicted[i]!=expected[i]):\n",
    "            error_count = error_count + 1\n",
    "    acc = (len(expected)-error_count)/len(expected)\n",
    "    return error_count, acc\n",
    "    \n",
    "    \n",
    "import time\n",
    "from sklearn.metrics import accuracy_score\n",
    "\n",
    "lr = 0.01\n",
    "iter = 2000\n",
    "epochs = 15\n",
    "NUM_CLASSES = 10\n",
    "\n",
    "\n",
    "def predict(all_weights, test_images):\n",
    "    test_images = np.hstack((np.ones((test_images.shape[0], 1)), test_images))\n",
    "    predicted_labels = np.dot(all_weights, test_images.T)\n",
    "    predicted_labels = sigmoid(predicted_labels)\n",
    "    predicted_labels = np.argmax(predicted_labels, axis=0)\n",
    "    return predicted_labels.T\n",
    "\n",
    "def sigmoid(x):\n",
    "    return 1 / (1 + np.exp(-x))\n",
    "\n",
    "def learn(train_images, train_labels, weights):\n",
    "    tr_size = train_images.shape[0]\n",
    "    iters = []\n",
    "    error_values = []\n",
    "    for i in range(iter):\n",
    "        h = np.dot(train_images, weights)\n",
    "        h = sigmoid(h)\n",
    "        error_value = (np.dot(-1 * train_labels.T, np.log(h)) - np.dot((1 - train_labels).T, np.log(1 - h))) / tr_size\n",
    "        gradient = np.dot(train_images.T, h - train_labels) / tr_size\n",
    "\n",
    "        weights = weights - (gradient * lr)\n",
    "\n",
    "        iters.append(i)\n",
    "        error_values.append(error_value[0, 0])\n",
    "    return weights\n",
    "\n",
    "def train_p(train_images, train_labels):\n",
    "    # add 1's as x0\n",
    "    tr_size = train_images.shape[0]\n",
    "    train_images = np.hstack((np.ones((tr_size, 1)), train_images))\n",
    "    # add w0 as 0 initially\n",
    "    all_weights = np.zeros((NUM_CLASSES, train_images.shape[1]))\n",
    "    train_labels = train_labels.reshape((tr_size, 1))\n",
    "    train_labels_copy = np.copy(train_labels)\n",
    "\n",
    "    for j in range(NUM_CLASSES):\n",
    "        #print(\"Training Classifier: \", j+1)\n",
    "        train_labels = np.copy(train_labels_copy)\n",
    "        # initialize all weights to zero\n",
    "        weights = np.zeros((train_images.shape[1], 1))\n",
    "        for k in range(tr_size):\n",
    "            if train_labels[k, 0] == j:\n",
    "                train_labels[k, 0] = 1\n",
    "            else:\n",
    "                train_labels[k, 0] = 0\n",
    "        weights = learn(train_images, train_labels, weights)\n",
    "        all_weights[j, :] = weights.T\n",
    "    return all_weights\n",
    "\n",
    "\n",
    "def PC(train_images, train_labels, test_images, test_labels):\n",
    "    start_time = time.clock()\n",
    "    print(train_images.shape)\n",
    "    all_weights = train_p(train_images, train_labels)\n",
    "    tr_time = time.clock() - start_time\n",
    "    \n",
    "    predicted_labels = predict(all_weights, test_images)\n",
    "    \n",
    "    accuracy = accuracy_score(test_labels, predicted_labels) * 100\n",
    "\n",
    "    print(\"Accuracy is: \", accuracy, \"%\")\n",
    "    print(\"------------------\\n\")\n",
    "    return accuracy/100, tr_time\n"
   ]
  },
  {
   "cell_type": "code",
   "execution_count": 29,
   "metadata": {},
   "outputs": [
    {
     "name": "stdout",
     "output_type": "stream",
     "text": [
      "(5000, 784)\n"
     ]
    },
    {
     "name": "stderr",
     "output_type": "stream",
     "text": [
      "c:\\program files\\python3.6-64\\lib\\site-packages\\ipykernel_launcher.py:94: RuntimeWarning: overflow encountered in exp\n",
      "c:\\program files\\python3.6-64\\lib\\site-packages\\ipykernel_launcher.py:103: RuntimeWarning: divide by zero encountered in log\n"
     ]
    },
    {
     "name": "stdout",
     "output_type": "stream",
     "text": [
      "Accuracy is:  77.60000000000001 %\n",
      "------------------\n",
      "\n",
      "Perceptron Accuracy is:  0.7760000000000001\n",
      "Perceptron training time is:  102.46822989999998\n"
     ]
    }
   ],
   "source": [
    "accu, tr_time = PC(train, train_labels, test, test_labels)\n",
    "print(\"Perceptron Accuracy is: \", accu)\n",
    "print(\"Perceptron training time is: \", tr_time)"
   ]
  },
  {
   "cell_type": "markdown",
   "metadata": {},
   "source": [
    "# K-Nearest Neighbor Classifier"
   ]
  },
  {
   "cell_type": "code",
   "execution_count": 30,
   "metadata": {},
   "outputs": [],
   "source": [
    "# ------------------- k-NEAREST NEIGHBOR  --------------------------\n",
    "\n",
    "def KNN(k, features, train_labels, test, test_labels):\n",
    "    T = test#- mean_i;\n",
    "    #T = T.transpose()\n",
    "    features_test = T #Urd.transpose().dot(T)\n",
    "    #print (\"Test set in PCA domain: \",features_test.shape)\n",
    "\n",
    "    diff = np.zeros(shape=(T.shape[1],features.shape[1]))\n",
    "    for i in range(T.shape[1]):\n",
    "        for j in range(features.shape[1]):\n",
    "            diff[i][j] = la.norm(features_test[:,i]-features[:,j],2)\n",
    "    #print(diff.shape)\n",
    "    ## find smallest distance k indices\n",
    "    ind = np.argsort(diff, axis=1)[:,:k]\n",
    "    #print(ind.shape)\n",
    "    newlabels = np.zeros(T.shape[1]);\n",
    "    errorct = 0\n",
    "    for i in range(T.shape[1]):\n",
    "        counts = np.zeros(10)\n",
    "        label = 0\n",
    "        for j in range(k):\n",
    "            for c in range(10):\n",
    "                if(train_labels[ind[i][j]]==c):\n",
    "                    counts[c] += 1\n",
    "\n",
    "        \n",
    "        label = np.argmax(counts)\n",
    "        \n",
    "        if (label != test_labels[i]):\n",
    "            errorct = errorct + 1\n",
    "    acc = 1-errorct/T.shape[1]\n",
    "    return errorct, errorct/T.shape[1], acc"
   ]
  },
  {
   "cell_type": "code",
   "execution_count": 31,
   "metadata": {},
   "outputs": [
    {
     "name": "stdout",
     "output_type": "stream",
     "text": [
      "K-NN Accuracy is:  0.899\n",
      "Time:  28.94417580000004\n"
     ]
    }
   ],
   "source": [
    "k = 7\n",
    "start_time = time.clock()\n",
    "ec, e , accu = KNN(k, train_MxN, train_labels, test_MxN, test_labels)\n",
    "time_ = time.clock() - start_time\n",
    "print(\"K-NN Accuracy is: \", accu)\n",
    "print(\"Time: \", time_)"
   ]
  },
  {
   "cell_type": "markdown",
   "metadata": {},
   "source": [
    "# Testing and Stats with Multiple Iterations"
   ]
  },
  {
   "cell_type": "code",
   "execution_count": 32,
   "metadata": {},
   "outputs": [],
   "source": [
    "## ------------------- TESTING AND STATS ------------------\n",
    "\n",
    "def getPercentage(data, labels, percent):\n",
    "    # data in NxM format\n",
    "    num = int(percent/100 * data.shape[0])\n",
    "    #indices = np.random.choice(np.arange(data.shape[0]),num)\n",
    "    ind = np.arange(data.shape[0])\n",
    "    np.random.shuffle(ind)\n",
    "    indices = ind[:num]\n",
    "    #print(indices)\n",
    "    sdata = np.array([data[i] for i in indices])\n",
    "    slabels = np.array([labels[i] for i in indices])\n",
    "    return sdata, slabels\n",
    "\n",
    "'''train = np.array([i.flatten() for i in train])\n",
    "test = np.array([i.flatten() for i in test]) \n",
    "train_MxN = train.transpose()\n",
    "test_MxN = test.transpose()'''\n",
    "\n",
    "#percents = [10,20,30,40,50,60,70,80,90,100]\n",
    "percents = [20,60,100]"
   ]
  },
  {
   "cell_type": "markdown",
   "metadata": {},
   "source": [
    "## Naive Bayes Test"
   ]
  },
  {
   "cell_type": "code",
   "execution_count": 33,
   "metadata": {},
   "outputs": [
    {
     "name": "stdout",
     "output_type": "stream",
     "text": [
      "[0.682 0.729 0.707 0.705 0.733]\n",
      "[0.754 0.752 0.755 0.753 0.745]\n",
      "[0.759 0.759 0.759 0.759 0.759]\n"
     ]
    },
    {
     "data": {
      "image/png": "[encoded data removed]",
      "text/plain": [
       "<Figure size 432x288 with 1 Axes>"
      ]
     },
     "metadata": {
      "needs_background": "light"
     },
     "output_type": "display_data"
    },
    {
     "data": {
      "image/png": "[encoded data removed]",
      "text/plain": [
       "<Figure size 432x288 with 1 Axes>"
      ]
     },
     "metadata": {
      "needs_background": "light"
     },
     "output_type": "display_data"
    }
   ],
   "source": [
    "# ======= Naive Bayes ==========\n",
    "accs_NBC = []\n",
    "stds_NBC = []\n",
    "times = []\n",
    "for i in range(len(percents)):\n",
    "    acc = np.zeros(5)\n",
    "    time_ = np.zeros(5)\n",
    "    for j in range(5):\n",
    "        c_train, c_labels = getPercentage(train, train_labels, percents[i])\n",
    "        c_train = c_train.transpose()\n",
    "        start_time = time.clock()\n",
    "        pred = NBC(c_train, c_labels, test_MxN)\n",
    "        time_[j] = time.clock() - start_time\n",
    "        errorcount, accu = counterror(pred,test_labels)\n",
    "        acc[j] = accu\n",
    "        \n",
    "    print(acc)\n",
    "    mean = np.mean(acc)\n",
    "    std = np.std(acc)\n",
    "    accs_NBC.append(mean)\n",
    "    stds_NBC.append(std)\n",
    "    mean_t = np.mean(time_)\n",
    "    times.append(mean_t)\n",
    "#print(accs_NBC)\n",
    "#print(stds_NBC)\n",
    "fig = plt.figure(1)\n",
    "ax = fig.add_subplot(111)\n",
    "plt.plot(percents,accs_NBC)\n",
    "for xy in zip(percents, accs_NBC):                                       # <--\n",
    "    ax.annotate('%.2f' % xy[1], xy=xy, textcoords='data')\n",
    "plt.plot(percents,stds_NBC)\n",
    "for xy in zip(percents,stds_NBC):                                       # <--\n",
    "    ax.annotate('%.2f' % xy[1], xy=xy, textcoords='data')\n",
    "plt.title('DIGITS - Naive Bayes Accuracy and Standard Deviation')\n",
    "plt.ylabel('value (acc or std)')\n",
    "plt.xlabel('percent')\n",
    "plt.legend(['mean accuracy','standard deviation'],loc='upper left')\n",
    "plt.show()\n",
    "\n",
    "fig2 = plt.figure(2)\n",
    "ax = fig2.add_subplot(111)\n",
    "plt.plot(percents,times)\n",
    "for xy in zip(percents, times):                                       # <--\n",
    "    ax.annotate('%.2f' % xy[1], xy=xy, textcoords='data')\n",
    "plt.title('DIGITS - Naive Bayes Times')\n",
    "plt.ylabel('average time (seconds)')\n",
    "plt.xlabel('percent of data')\n",
    "plt.show()"
   ]
  },
  {
   "cell_type": "markdown",
   "metadata": {},
   "source": [
    "## Perceptron Test"
   ]
  },
  {
   "cell_type": "code",
   "execution_count": 34,
   "metadata": {},
   "outputs": [
    {
     "name": "stdout",
     "output_type": "stream",
     "text": [
      "(1000, 784)\n"
     ]
    },
    {
     "name": "stderr",
     "output_type": "stream",
     "text": [
      "c:\\program files\\python3.6-64\\lib\\site-packages\\ipykernel_launcher.py:94: RuntimeWarning: overflow encountered in exp\n",
      "c:\\program files\\python3.6-64\\lib\\site-packages\\ipykernel_launcher.py:103: RuntimeWarning: divide by zero encountered in log\n"
     ]
    },
    {
     "name": "stdout",
     "output_type": "stream",
     "text": [
      "Accuracy is:  78.10000000000001 %\n",
      "------------------\n",
      "\n",
      "(1000, 784)\n",
      "Accuracy is:  75.6 %\n",
      "------------------\n",
      "\n",
      "(1000, 784)\n",
      "Accuracy is:  78.4 %\n",
      "------------------\n",
      "\n",
      "(1000, 784)\n",
      "Accuracy is:  77.10000000000001 %\n",
      "------------------\n",
      "\n",
      "(1000, 784)\n",
      "Accuracy is:  75.5 %\n",
      "------------------\n",
      "\n",
      "(3000, 784)\n",
      "Accuracy is:  78.3 %\n",
      "------------------\n",
      "\n",
      "(3000, 784)\n",
      "Accuracy is:  76.6 %\n",
      "------------------\n",
      "\n",
      "(3000, 784)\n",
      "Accuracy is:  78.9 %\n",
      "------------------\n",
      "\n",
      "(3000, 784)\n",
      "Accuracy is:  77.7 %\n",
      "------------------\n",
      "\n",
      "(3000, 784)\n",
      "Accuracy is:  78.60000000000001 %\n",
      "------------------\n",
      "\n",
      "(5000, 784)\n",
      "Accuracy is:  76.0 %\n",
      "------------------\n",
      "\n",
      "(5000, 784)\n",
      "Accuracy is:  79.5 %\n",
      "------------------\n",
      "\n",
      "(5000, 784)\n",
      "Accuracy is:  77.9 %\n",
      "------------------\n",
      "\n",
      "(5000, 784)\n",
      "Accuracy is:  80.2 %\n",
      "------------------\n",
      "\n",
      "(5000, 784)\n",
      "Accuracy is:  78.10000000000001 %\n",
      "------------------\n",
      "\n"
     ]
    },
    {
     "data": {
      "image/png": "[encoded data removed]",
      "text/plain": [
       "<Figure size 432x288 with 1 Axes>"
      ]
     },
     "metadata": {
      "needs_background": "light"
     },
     "output_type": "display_data"
    },
    {
     "data": {
      "image/png": "[encoded data removed]",
      "text/plain": [
       "<Figure size 432x288 with 1 Axes>"
      ]
     },
     "metadata": {
      "needs_background": "light"
     },
     "output_type": "display_data"
    }
   ],
   "source": [
    "# ========== Perceptron ================\n",
    "\n",
    "accs_PC = []\n",
    "stds_PC = []\n",
    "times = []\n",
    "for i in range(len(percents)):\n",
    "    acc = np.zeros(5)\n",
    "    time_ = np.zeros(5)\n",
    "    for j in range(5):\n",
    "        c_train, c_labels = getPercentage(train, train_labels, percents[i])\n",
    "        accu, tr_time = PC(c_train, c_labels, test, test_labels)\n",
    "        time_[j] = tr_time\n",
    "        acc[j] = accu\n",
    "    mean = np.mean(acc)\n",
    "    std = np.std(acc)\n",
    "    accs_PC.append(mean)\n",
    "    stds_PC.append(std)\n",
    "    mean_t = np.mean(time_)\n",
    "    times.append(mean_t)\n",
    "fig = plt.figure(2)\n",
    "ax = fig.add_subplot(111)\n",
    "plt.plot(percents,accs_PC)\n",
    "for xy in zip(percents, accs_PC):                                       # <--\n",
    "    ax.annotate('%.2f' % xy[1], xy=xy, textcoords='data')\n",
    "plt.plot(percents,stds_PC)\n",
    "for xy in zip(percents,stds_PC):                                       # <--\n",
    "    ax.annotate('%.2f' % xy[1], xy=xy, textcoords='data')\n",
    "plt.title('DIGITS - Perceptron Accuracy and Standard Deviation')\n",
    "plt.ylabel('value (acc or std)')\n",
    "plt.xlabel('percent')\n",
    "plt.legend(['mean accuracy','standard deviation'],loc='upper left')\n",
    "plt.show()\n",
    "\n",
    "fig2 = plt.figure(2)\n",
    "ax = fig2.add_subplot(111)\n",
    "plt.plot(percents,times)\n",
    "for xy in zip(percents, times):                                       # <--\n",
    "    ax.annotate('%.2f' % xy[1], xy=xy, textcoords='data')\n",
    "plt.title('DIGITS - Perceptron Times')\n",
    "plt.ylabel('average time (seconds)')\n",
    "plt.xlabel('percent of data')\n",
    "plt.show()"
   ]
  },
  {
   "cell_type": "markdown",
   "metadata": {},
   "source": [
    "## K-NN Test"
   ]
  },
  {
   "cell_type": "code",
   "execution_count": 35,
   "metadata": {},
   "outputs": [
    {
     "name": "stdout",
     "output_type": "stream",
     "text": [
      "[0.824 0.824 0.836 0.817 0.819]\n",
      "[0.873 0.876 0.877 0.884 0.873]\n",
      "[0.899 0.899 0.899 0.899 0.899]\n"
     ]
    },
    {
     "data": {
      "image/png": "[encoded data removed]",
      "text/plain": [
       "<Figure size 432x288 with 1 Axes>"
      ]
     },
     "metadata": {
      "needs_background": "light"
     },
     "output_type": "display_data"
    },
    {
     "data": {
      "image/png": "[encoded data removed]",
      "text/plain": [
       "<Figure size 432x288 with 1 Axes>"
      ]
     },
     "metadata": {
      "needs_background": "light"
     },
     "output_type": "display_data"
    }
   ],
   "source": [
    "# ================ K-NN ==================\n",
    "accs_KNN = []\n",
    "stds_KNN = []\n",
    "times = []\n",
    "for i in range(len(percents)):\n",
    "    acc = np.zeros(5)\n",
    "    time_ = np.zeros(5)\n",
    "    for j in range(5):\n",
    "        c_train, c_labels = getPercentage(train, train_labels, percents[i])\n",
    "        c_train = c_train.transpose()\n",
    "        k = 7\n",
    "        start_time = time.clock()\n",
    "        ec, e , accu = KNN(k, c_train, c_labels, test_MxN, test_labels)\n",
    "        time_[j] = time.clock() - start_time\n",
    "        acc[j] = accu\n",
    "    print(acc)\n",
    "    mean = np.mean(acc)\n",
    "    std = np.std(acc)\n",
    "    accs_KNN.append(mean)\n",
    "    stds_KNN.append(std)\n",
    "    mean_t = np.mean(time_)\n",
    "    times.append(mean_t)\n",
    "#print(accs_KNN)\n",
    "#print(stds_KNN)\n",
    "fig = plt.figure(3)\n",
    "ax = fig.add_subplot(111)\n",
    "plt.plot(percents,accs_KNN)\n",
    "for xy in zip(percents, accs_KNN):                                       # <--\n",
    "    ax.annotate('%.2f' % xy[1], xy=xy, textcoords='data')\n",
    "plt.plot(percents,stds_KNN)\n",
    "for xy in zip(percents,stds_KNN):                                       # <--\n",
    "    ax.annotate('%.2f' % xy[1], xy=xy, textcoords='data')\n",
    "plt.title('DIGITS - k-NN Accuracy and Standard Deviation')\n",
    "plt.ylabel('value (acc or std)')\n",
    "plt.xlabel('percent')\n",
    "plt.legend(['mean accuracy','standard deviation'],loc='upper left')\n",
    "plt.show()\n",
    "\n",
    "fig2 = plt.figure(2)\n",
    "ax = fig2.add_subplot(111)\n",
    "plt.plot(percents,times)\n",
    "for xy in zip(percents, times):                                       # <--\n",
    "    ax.annotate('%.2f' % xy[1], xy=xy, textcoords='data')\n",
    "plt.title('DIGITS - k-NN Times')\n",
    "plt.ylabel('average time (seconds)')\n",
    "plt.xlabel('percent of data')\n",
    "plt.show()"
   ]
  },
  {
   "cell_type": "code",
   "execution_count": null,
   "metadata": {},
   "outputs": [],
   "source": []
  }
 ],
 "metadata": {
  "kernelspec": {
   "display_name": "Python 3",
   "language": "python",
   "name": "python3"
  },
  "language_info": {
   "codemirror_mode": {
    "name": "ipython",
    "version": 3
   },
   "file_extension": ".py",
   "mimetype": "text/x-python",
   "name": "python",
   "nbconvert_exporter": "python",
   "pygments_lexer": "ipython3",
   "version": "3.6.5"
  }
 },
 "nbformat": 4,
 "nbformat_minor": 2
}
