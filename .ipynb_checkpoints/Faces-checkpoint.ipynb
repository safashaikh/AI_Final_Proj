{
 "cells": [
  {
   "cell_type": "code",
   "execution_count": 1,
   "metadata": {},
   "outputs": [],
   "source": [
    "import os\n",
    "import numpy as np\n",
    "import matplotlib.pyplot as plt\n",
    "import numpy.linalg as la\n",
    "import time\n",
    "\n",
    "f_train = open(os.path.join('facedata','facedatatrain'),'r')\n",
    "f_train_label = open(os.path.join('facedata','facedatatrainlabels'),'r')\n",
    "f_test = open(os.path.join('facedata','facedatatest'),'r')\n",
    "f_test_label = open(os.path.join('facedata','facedatatestlabels'),'r')\n",
    "f_val = open(os.path.join('facedata','facedatavalidation'),'r')\n",
    "f_val_label = open(os.path.join('facedata','facedatavalidationlabels'),'r') "
   ]
  },
  {
   "cell_type": "code",
   "execution_count": 2,
   "metadata": {},
   "outputs": [],
   "source": [
    "def makelabels(file,num):\n",
    "    labels = np.zeros(num)\n",
    "    for i in range(num):\n",
    "        c = file.read(1)\n",
    "        labels[i] = int(c)\n",
    "        c_we = file.read(1)\n",
    "    return labels\n",
    "        \n",
    "def makefaces(file,num,height,width):\n",
    "    train = np.zeros((num,height,width))\n",
    "    for k in range(num):\n",
    "        img = np.zeros((height,width))\n",
    "        for i in range(height):\n",
    "            for j in range(width):\n",
    "                c = file.read(1)\n",
    "                if c == '#':\n",
    "                    img[i][j] = 255\n",
    "            c = file.read(1)\n",
    "        train[k,:,:] = img\n",
    "    return train"
   ]
  },
  {
   "cell_type": "markdown",
   "metadata": {},
   "source": [
    "## Create Train and Test Sets \n",
    "### Display Sample Image"
   ]
  },
  {
   "cell_type": "code",
   "execution_count": 3,
   "metadata": {},
   "outputs": [
    {
     "data": {
      "text/plain": [
       "<matplotlib.image.AxesImage at 0x175a1618e10>"
      ]
     },
     "execution_count": 3,
     "metadata": {},
     "output_type": "execute_result"
    },
    {
     "data": {
      "image/png": "[encoded data removed]",
      "text/plain": [
       "<Figure size 432x288 with 1 Axes>"
      ]
     },
     "metadata": {
      "needs_background": "light"
     },
     "output_type": "display_data"
    }
   ],
   "source": [
    "%matplotlib inline\n",
    "train = makefaces(f_train,451,70,60)\n",
    "train_labels = makelabels(f_train_label,451)\n",
    "test = makefaces(f_test,150,70,60)\n",
    "test_labels = makelabels(f_test_label,150)\n",
    "val = makefaces(f_val,301,70,60)\n",
    "val_labels = makelabels(f_val_label,301)\n",
    "plt.imshow(train[78],cmap='gray')"
   ]
  },
  {
   "cell_type": "code",
   "execution_count": null,
   "metadata": {},
   "outputs": [],
   "source": [
    "train = np.array([i.flatten() for i in train])\n",
    "test = np.array([i.flatten() for i in test]) \n",
    "train_MxN = train.transpose()\n",
    "test_MxN = test.transpose()"
   ]
  },
  {
   "cell_type": "markdown",
   "metadata": {},
   "source": [
    "# Naive Bayes Classifier using discrete pixel probabilities"
   ]
  },
  {
   "cell_type": "code",
   "execution_count": 9,
   "metadata": {},
   "outputs": [],
   "source": [
    "# -------------- NAIVE BAYES CLASSIFIER --------------------\n",
    "\n",
    "def NBC(data,labels,testdata):\n",
    "    ## data in shape MxN, where M = # of features\n",
    "    numFeat = data.shape[0]\n",
    "    LabelData = [{'class':x, 'index':i} for i,x in enumerate(labels)] \n",
    "    #print(LabelData)\n",
    "    ClassData = []\n",
    "    numclasses = 2\n",
    "    for i in range(numclasses):\n",
    "        newclass = list(filter(lambda x: x['class']==i, LabelData))\n",
    "        ClassData.append(newclass)\n",
    "       \n",
    "    P = []\n",
    "    for i in range(numclasses):\n",
    "        newp = len(ClassData[i])/len(LabelData)\n",
    "        P.append(newp)\n",
    "        \n",
    "    #M = stddata.shape[0]\n",
    "    probFeat = np.zeros((numclasses,numFeat,2))\n",
    "    ClassFeat = np.zeros((numclasses,numFeat,2))\n",
    "           \n",
    "    for k in range(numclasses):\n",
    "        for i in range(len(ClassData[k])):\n",
    "            idx = ClassData[k][i]['index']\n",
    "            for j in range(numFeat):\n",
    "                if data[j][idx] == 0:\n",
    "                    #print(data[j][idx])\n",
    "                    ClassFeat[k][j][0] += 1\n",
    "                else:\n",
    "                    ClassFeat[k][j][1] += 1\n",
    "                \n",
    "        for j in range(numFeat):\n",
    "            probFeat[k][j][0] = ClassFeat[k][j][0]/len(ClassData[k])\n",
    "            probFeat[k][j][1] = ClassFeat[k][j][1]/len(ClassData[k])\n",
    "            assert (probFeat[k][j][0] + probFeat[k][j][1]) == 1\n",
    "            \n",
    "                \n",
    "    predictions = []\n",
    "    for i in range(testdata.shape[1]):\n",
    "        p = []\n",
    "        for k in range(numclasses):\n",
    "            pclass = P[k]\n",
    "            for j in range(1500,3000):\n",
    "                if testdata[j][i] == 0:\n",
    "                    pclass = pclass * probFeat[k][j][0]\n",
    "                else:\n",
    "                    pclass = pclass * probFeat[k][j][1]\n",
    "                \n",
    "            p.append(pclass)\n",
    "        predictions.append(p.index(max(p)))\n",
    "    return predictions\n",
    "\n",
    "def counterror(pred,labels):\n",
    "    count = 0;\n",
    "    for i in range(len(pred)):\n",
    "        if (pred[i] != int(labels[i])):\n",
    "            count = count +1\n",
    "    acc = 1 - count/labels.shape[0]\n",
    "    return count, acc"
   ]
  },
  {
   "cell_type": "code",
   "execution_count": 14,
   "metadata": {},
   "outputs": [
    {
     "name": "stdout",
     "output_type": "stream",
     "text": [
      "NBC Accuracy is:  0.88\n",
      "Time is:  2.005154100000027\n"
     ]
    }
   ],
   "source": [
    "start_time = time.clock()\n",
    "pred = NBC(train_MxN, train_labels, test_MxN)\n",
    "time_ = time.clock() - start_time\n",
    "errorcount, accu = counterror(pred,test_labels)\n",
    "print(\"NBC Accuracy is: \", accu)\n",
    "print(\"Time is: \", time_)"
   ]
  },
  {
   "cell_type": "markdown",
   "metadata": {},
   "source": [
    "# Perceptron Classifier using Unit Step Function"
   ]
  },
  {
   "cell_type": "code",
   "execution_count": 12,
   "metadata": {},
   "outputs": [],
   "source": [
    "# ------------------- PERCEPTRON using Unit Step Function --------------\n",
    "\n",
    "def predict(row, weights):\n",
    "    activation = weights[0]\n",
    "    for i in range(len(row)-1):\n",
    "        activation += weights[i + 1] * row[i]\n",
    "    return 1.0 if activation >= 0.0 else 0.0\n",
    "\n",
    "# Estimate Perceptron weights using stochastic gradient descent\n",
    "def train_weights(train, l_rate, n_epoch):\n",
    "    weights = [0.0 for i in range(len(train[0]))]\n",
    "    for epoch in range(n_epoch):\n",
    "        sum_error = 0.0\n",
    "        for row in train:\n",
    "            prediction = predict(row, weights)\n",
    "            error = row[-1] - prediction\n",
    "            sum_error += error**2\n",
    "            weights[0] = weights[0] + l_rate * error\n",
    "            for i in range(len(row)-1):\n",
    "                weights[i + 1] = weights[i + 1] + l_rate * error * row[i]\n",
    "        print('>epoch=%d, lrate=%.3f, error=%.3f' % (epoch, l_rate, sum_error))\n",
    "    return weights\n",
    "\n",
    "# Perceptron Algorithm With Stochastic Gradient Descent\n",
    "def perceptron(train, test, l_rate, n_epoch):\n",
    "    predictions = list()\n",
    "    weights = train_weights(train, l_rate, n_epoch)\n",
    "    for row in test:\n",
    "        prediction = predict(row, weights)\n",
    "        predictions.append(prediction)\n",
    "    return(predictions)\n",
    "\n",
    "def accuracy(expected, predicted):\n",
    "    error_count = 0\n",
    "    for i in range(0, len(expected)):\n",
    "        if(predicted[i]!=expected[i]):\n",
    "            error_count = error_count + 1\n",
    "    acc = (len(expected)-error_count)/len(expected)\n",
    "    return error_count, acc\n"
   ]
  },
  {
   "cell_type": "code",
   "execution_count": 15,
   "metadata": {},
   "outputs": [
    {
     "name": "stdout",
     "output_type": "stream",
     "text": [
      "(451, 4201)\n",
      "(150, 4201)\n",
      ">epoch=0, lrate=0.010, error=121.000\n",
      ">epoch=1, lrate=0.010, error=41.000\n",
      ">epoch=2, lrate=0.010, error=10.000\n",
      ">epoch=3, lrate=0.010, error=2.000\n",
      ">epoch=4, lrate=0.010, error=4.000\n",
      ">epoch=5, lrate=0.010, error=5.000\n",
      ">epoch=6, lrate=0.010, error=5.000\n",
      "Perceptron Accuracy is:  0.8666666666666667\n",
      "Time:  9.087702100000001\n"
     ]
    }
   ],
   "source": [
    "train_data = np.column_stack((train,train_labels))\n",
    "print(train_data.shape)\n",
    "test_data = np.column_stack((test, test_labels))\n",
    "print(test_data.shape)\n",
    "l_rate = 0.01\n",
    "n_epoch = 7\n",
    "start_time = time.clock()\n",
    "pred = perceptron(train_data, test_data, l_rate, n_epoch)\n",
    "time_ = time.clock() - start_time\n",
    "err, accu = accuracy(test_labels, pred)\n",
    "print(\"Perceptron Accuracy is: \", accu)\n",
    "print(\"Time: \", time_)"
   ]
  },
  {
   "cell_type": "markdown",
   "metadata": {},
   "source": [
    "# K-NN (K-Nearest Neighbor Classifier)"
   ]
  },
  {
   "cell_type": "code",
   "execution_count": 16,
   "metadata": {},
   "outputs": [],
   "source": [
    "# ------------------- k-NEAREST NEIGHBOR --------------------\n",
    "def KNN(k, features, train_labels, test, test_labels):\n",
    "    T = test#- mean_i;\n",
    "    #T = T.transpose()\n",
    "    features_test = T #Urd.transpose().dot(T)\n",
    "    #print (\"Test set in PCA domain: \",features_test.shape)\n",
    "\n",
    "    diff = np.zeros(shape=(T.shape[1],features.shape[1]))\n",
    "    for i in range(T.shape[1]):\n",
    "        for j in range(features.shape[1]):\n",
    "            diff[i][j] = la.norm(features_test[:,i]-features[:,j],2)\n",
    "    #print(diff.shape)\n",
    "    ## find smallest distance k indices\n",
    "    ind = np.argsort(diff, axis=1)[:,:k]\n",
    "    #print(ind.shape)\n",
    "    newlabels = np.zeros(T.shape[1]);\n",
    "    errorct = 0\n",
    "    for i in range(T.shape[1]):\n",
    "        counts = np.zeros(2)\n",
    "        label = 0\n",
    "        for j in range(k):\n",
    "            for c in range(2):\n",
    "                if(train_labels[ind[i][j]]==c):\n",
    "                    counts[c] += 1\n",
    "\n",
    "        \n",
    "        label = np.argmax(counts)\n",
    "        \n",
    "        if (label != test_labels[i]):\n",
    "            errorct = errorct + 1\n",
    "    acc = 1-errorct/T.shape[1]\n",
    "    return errorct, errorct/T.shape[1], acc\n"
   ]
  },
  {
   "cell_type": "code",
   "execution_count": 17,
   "metadata": {},
   "outputs": [
    {
     "name": "stdout",
     "output_type": "stream",
     "text": [
      "K-NN Accuracy is:  0.5866666666666667\n",
      "Time:  0.5726871999999048\n"
     ]
    }
   ],
   "source": [
    "k = 7\n",
    "start_time = time.clock()\n",
    "ec, e , accu = KNN(k, train_MxN, train_labels, test_MxN, test_labels)\n",
    "time_ = time.clock() - start_time\n",
    "print(\"K-NN Accuracy is: \", accu)\n",
    "print(\"Time: \", time_)"
   ]
  },
  {
   "cell_type": "code",
   "execution_count": 18,
   "metadata": {},
   "outputs": [],
   "source": [
    "## ------------------- TESTING AND STATS ------------------\n",
    "\n",
    "def getPercentage(data, labels, percent):\n",
    "    # data in NxM format\n",
    "    num = int(percent/100 * data.shape[0])\n",
    "    #indices = np.random.choice(np.arange(data.shape[0]),num)\n",
    "    ind = np.arange(data.shape[0])\n",
    "    np.random.shuffle(ind)\n",
    "    indices = ind[:num]\n",
    "    #print(indices)\n",
    "    sdata = np.array([data[i] for i in indices])\n",
    "    slabels = np.array([labels[i] for i in indices])\n",
    "    return sdata, slabels\n",
    "\n",
    "'''train = np.array([i.flatten() for i in train])\n",
    "test = np.array([i.flatten() for i in test]) \n",
    "train_MxN = train.transpose()\n",
    "test_MxN = test.transpose()'''\n",
    "\n",
    "#percents = [10,20,30,40,50,60,70,80,90,100]\n",
    "percents = [20,60,100]"
   ]
  },
  {
   "cell_type": "code",
   "execution_count": 19,
   "metadata": {},
   "outputs": [
    {
     "data": {
      "image/png": "[encoded data removed]",
      "text/plain": [
       "<Figure size 432x288 with 1 Axes>"
      ]
     },
     "metadata": {
      "needs_background": "light"
     },
     "output_type": "display_data"
    }
   ],
   "source": [
    "# ======= Naive Bayes ==========\n",
    "accs_NBC = []\n",
    "stds_NBC = []\n",
    "times = []\n",
    "for i in range(len(percents)):\n",
    "    acc = np.zeros(5)\n",
    "    time_ = np.zeros(5)\n",
    "    for j in range(5):\n",
    "        c_train, c_labels = getPercentage(train, train_labels, percents[i])\n",
    "        c_train = c_train.transpose()\n",
    "        start_time = time.clock()\n",
    "        pred = NBC(c_train, c_labels, test_MxN)\n",
    "        time_[j] = time.clock() - start_time\n",
    "        errorcount, accu = counterror(pred,test_labels)\n",
    "        acc[j] = accu\n",
    "    mean = np.mean(acc)\n",
    "    std = np.std(acc)\n",
    "    accs_NBC.append(mean)\n",
    "    stds_NBC.append(std)\n",
    "    mean_t = np.mean(time_)\n",
    "    times.append(mean_t)\n",
    "#print(accs_NBC)\n",
    "#print(stds_NBC)\n",
    "fig = plt.figure(1)\n",
    "ax = fig.add_subplot(111)\n",
    "plt.plot(percents,accs_NBC)\n",
    "for xy in zip(percents, accs_NBC):                                       # <--\n",
    "    ax.annotate('%.2f' % xy[1], xy=xy, textcoords='data')\n",
    "plt.plot(percents,stds_NBC)\n",
    "for xy in zip(percents,stds_NBC):                                       # <--\n",
    "    ax.annotate('%.2f' % xy[1], xy=xy, textcoords='data')\n",
    "plt.title('FACES - Naive Bayes Accuracy and Standard Deviation')\n",
    "plt.ylabel('value (acc or std)')\n",
    "plt.xlabel('percent')\n",
    "plt.legend(['mean accuracy','standard deviation'],loc='upper left')\n",
    "plt.show()\n",
    "#plt.savefig(image_dir+'/'+'lrcn_accuracy25.png')"
   ]
  },
  {
   "cell_type": "code",
   "execution_count": 20,
   "metadata": {},
   "outputs": [
    {
     "name": "stdout",
     "output_type": "stream",
     "text": [
      "(90, 4201)\n",
      "(150, 4201)\n",
      ">epoch=0, lrate=0.010, error=27.000\n",
      ">epoch=1, lrate=0.010, error=6.000\n",
      ">epoch=2, lrate=0.010, error=3.000\n",
      ">epoch=3, lrate=0.010, error=2.000\n",
      ">epoch=4, lrate=0.010, error=1.000\n",
      ">epoch=5, lrate=0.010, error=3.000\n",
      ">epoch=6, lrate=0.010, error=2.000\n",
      "(90, 4201)\n",
      "(150, 4201)\n",
      ">epoch=0, lrate=0.010, error=44.000\n",
      ">epoch=1, lrate=0.010, error=5.000\n",
      ">epoch=2, lrate=0.010, error=5.000\n",
      ">epoch=3, lrate=0.010, error=2.000\n",
      ">epoch=4, lrate=0.010, error=3.000\n",
      ">epoch=5, lrate=0.010, error=1.000\n",
      ">epoch=6, lrate=0.010, error=0.000\n",
      "(90, 4201)\n",
      "(150, 4201)\n",
      ">epoch=0, lrate=0.010, error=37.000\n",
      ">epoch=1, lrate=0.010, error=15.000\n",
      ">epoch=2, lrate=0.010, error=3.000\n",
      ">epoch=3, lrate=0.010, error=0.000\n",
      ">epoch=4, lrate=0.010, error=0.000\n",
      ">epoch=5, lrate=0.010, error=0.000\n",
      ">epoch=6, lrate=0.010, error=0.000\n",
      "(90, 4201)\n",
      "(150, 4201)\n",
      ">epoch=0, lrate=0.010, error=36.000\n",
      ">epoch=1, lrate=0.010, error=12.000\n",
      ">epoch=2, lrate=0.010, error=3.000\n",
      ">epoch=3, lrate=0.010, error=0.000\n",
      ">epoch=4, lrate=0.010, error=0.000\n",
      ">epoch=5, lrate=0.010, error=0.000\n",
      ">epoch=6, lrate=0.010, error=0.000\n",
      "(90, 4201)\n",
      "(150, 4201)\n",
      ">epoch=0, lrate=0.010, error=34.000\n",
      ">epoch=1, lrate=0.010, error=10.000\n",
      ">epoch=2, lrate=0.010, error=6.000\n",
      ">epoch=3, lrate=0.010, error=2.000\n",
      ">epoch=4, lrate=0.010, error=2.000\n",
      ">epoch=5, lrate=0.010, error=0.000\n",
      ">epoch=6, lrate=0.010, error=0.000\n",
      "[0.76666667 0.77333333 0.82       0.81333333 0.76      ]\n",
      "(270, 4201)\n",
      "(150, 4201)\n",
      ">epoch=0, lrate=0.010, error=85.000\n",
      ">epoch=1, lrate=0.010, error=30.000\n",
      ">epoch=2, lrate=0.010, error=11.000\n",
      ">epoch=3, lrate=0.010, error=5.000\n",
      ">epoch=4, lrate=0.010, error=2.000\n",
      ">epoch=5, lrate=0.010, error=0.000\n",
      ">epoch=6, lrate=0.010, error=0.000\n",
      "(270, 4201)\n",
      "(150, 4201)\n",
      ">epoch=0, lrate=0.010, error=71.000\n",
      ">epoch=1, lrate=0.010, error=29.000\n",
      ">epoch=2, lrate=0.010, error=10.000\n",
      ">epoch=3, lrate=0.010, error=2.000\n",
      ">epoch=4, lrate=0.010, error=1.000\n",
      ">epoch=5, lrate=0.010, error=0.000\n",
      ">epoch=6, lrate=0.010, error=0.000\n",
      "(270, 4201)\n",
      "(150, 4201)\n",
      ">epoch=0, lrate=0.010, error=90.000\n",
      ">epoch=1, lrate=0.010, error=25.000\n",
      ">epoch=2, lrate=0.010, error=7.000\n",
      ">epoch=3, lrate=0.010, error=4.000\n",
      ">epoch=4, lrate=0.010, error=1.000\n",
      ">epoch=5, lrate=0.010, error=0.000\n",
      ">epoch=6, lrate=0.010, error=0.000\n",
      "(270, 4201)\n",
      "(150, 4201)\n",
      ">epoch=0, lrate=0.010, error=78.000\n",
      ">epoch=1, lrate=0.010, error=28.000\n",
      ">epoch=2, lrate=0.010, error=9.000\n",
      ">epoch=3, lrate=0.010, error=6.000\n",
      ">epoch=4, lrate=0.010, error=1.000\n",
      ">epoch=5, lrate=0.010, error=0.000\n",
      ">epoch=6, lrate=0.010, error=0.000\n",
      "(270, 4201)\n",
      "(150, 4201)\n",
      ">epoch=0, lrate=0.010, error=78.000\n",
      ">epoch=1, lrate=0.010, error=26.000\n",
      ">epoch=2, lrate=0.010, error=11.000\n",
      ">epoch=3, lrate=0.010, error=7.000\n",
      ">epoch=4, lrate=0.010, error=2.000\n",
      ">epoch=5, lrate=0.010, error=0.000\n",
      ">epoch=6, lrate=0.010, error=0.000\n",
      "[0.86666667 0.86666667 0.84       0.87333333 0.84666667]\n",
      "(451, 4201)\n",
      "(150, 4201)\n",
      ">epoch=0, lrate=0.010, error=131.000\n",
      ">epoch=1, lrate=0.010, error=33.000\n",
      ">epoch=2, lrate=0.010, error=13.000\n",
      ">epoch=3, lrate=0.010, error=4.000\n",
      ">epoch=4, lrate=0.010, error=2.000\n",
      ">epoch=5, lrate=0.010, error=0.000\n",
      ">epoch=6, lrate=0.010, error=0.000\n",
      "(451, 4201)\n",
      "(150, 4201)\n",
      ">epoch=0, lrate=0.010, error=117.000\n",
      ">epoch=1, lrate=0.010, error=42.000\n",
      ">epoch=2, lrate=0.010, error=17.000\n",
      ">epoch=3, lrate=0.010, error=8.000\n",
      ">epoch=4, lrate=0.010, error=5.000\n",
      ">epoch=5, lrate=0.010, error=1.000\n",
      ">epoch=6, lrate=0.010, error=0.000\n",
      "(451, 4201)\n",
      "(150, 4201)\n",
      ">epoch=0, lrate=0.010, error=119.000\n",
      ">epoch=1, lrate=0.010, error=42.000\n",
      ">epoch=2, lrate=0.010, error=10.000\n",
      ">epoch=3, lrate=0.010, error=6.000\n",
      ">epoch=4, lrate=0.010, error=3.000\n",
      ">epoch=5, lrate=0.010, error=3.000\n",
      ">epoch=6, lrate=0.010, error=1.000\n",
      "(451, 4201)\n",
      "(150, 4201)\n",
      ">epoch=0, lrate=0.010, error=123.000\n",
      ">epoch=1, lrate=0.010, error=50.000\n",
      ">epoch=2, lrate=0.010, error=12.000\n",
      ">epoch=3, lrate=0.010, error=5.000\n",
      ">epoch=4, lrate=0.010, error=3.000\n",
      ">epoch=5, lrate=0.010, error=0.000\n",
      ">epoch=6, lrate=0.010, error=0.000\n",
      "(451, 4201)\n",
      "(150, 4201)\n",
      ">epoch=0, lrate=0.010, error=140.000\n",
      ">epoch=1, lrate=0.010, error=24.000\n",
      ">epoch=2, lrate=0.010, error=9.000\n",
      ">epoch=3, lrate=0.010, error=3.000\n",
      ">epoch=4, lrate=0.010, error=2.000\n",
      ">epoch=5, lrate=0.010, error=2.000\n",
      ">epoch=6, lrate=0.010, error=0.000\n",
      "[0.85333333 0.81333333 0.92       0.89333333 0.86666667]\n"
     ]
    },
    {
     "data": {
      "image/png": "[encoded data removed]",
      "text/plain": [
       "<Figure size 432x288 with 1 Axes>"
      ]
     },
     "metadata": {
      "needs_background": "light"
     },
     "output_type": "display_data"
    },
    {
     "data": {
      "image/png": "[encoded data removed]",
      "text/plain": [
       "<Figure size 432x288 with 1 Axes>"
      ]
     },
     "metadata": {
      "needs_background": "light"
     },
     "output_type": "display_data"
    }
   ],
   "source": [
    "# ======= Perceptron ===========\n",
    "\n",
    "accs_PC = []\n",
    "stds_PC = []\n",
    "times = []\n",
    "for i in range(len(percents)):\n",
    "    acc = np.zeros(5)\n",
    "    time_ = np.zeros(5)\n",
    "    for j in range(5):\n",
    "        c_train, c_labels = getPercentage(train, train_labels, percents[i])\n",
    "        train_data = np.column_stack((c_train,c_labels))\n",
    "        print(train_data.shape)\n",
    "        test_data = np.column_stack((test, test_labels))\n",
    "        print(test_data.shape)\n",
    "        l_rate = 0.01\n",
    "        n_epoch = 7\n",
    "        start_time = time.clock()\n",
    "        pred = perceptron(train_data, test_data, l_rate, n_epoch)\n",
    "        time_[j] = time.clock() - start_time\n",
    "        err, accu = accuracy(test_labels, pred)\n",
    "        acc[j] = accu\n",
    "    print(acc)\n",
    "    mean = np.mean(acc)\n",
    "    std = np.std(acc)\n",
    "    accs_PC.append(mean)\n",
    "    stds_PC.append(std)\n",
    "    mean_t = np.mean(time_)\n",
    "    times.append(mean_t)\n",
    "fig = plt.figure(2)\n",
    "ax = fig.add_subplot(111)\n",
    "plt.plot(percents,accs_PC)\n",
    "for xy in zip(percents, accs_PC):                                       # <--\n",
    "    ax.annotate('%.2f' % xy[1], xy=xy, textcoords='data')\n",
    "plt.plot(percents,stds_PC)\n",
    "for xy in zip(percents,stds_PC):                                       # <--\n",
    "    ax.annotate('%.2f' % xy[1], xy=xy, textcoords='data')\n",
    "plt.title('FACES - Perceptron Accuracy and Standard Deviation')\n",
    "plt.ylabel('value (acc or std)')\n",
    "plt.xlabel('percent')\n",
    "plt.legend(['mean accuracy','standard deviation'],loc='upper left')\n",
    "plt.show()\n",
    "\n",
    "fig2 = plt.figure(3)\n",
    "ax = fig2.add_subplot(111)\n",
    "plt.plot(percents,times)\n",
    "for xy in zip(percents, times):                                       # <--\n",
    "    ax.annotate('%.2f' % xy[1], xy=xy, textcoords='data')\n",
    "plt.title('FACES - Perceptron Times')\n",
    "plt.ylabel('average time (seconds)')\n",
    "plt.xlabel('percent of data')\n",
    "plt.show()\n"
   ]
  },
  {
   "cell_type": "code",
   "execution_count": 21,
   "metadata": {},
   "outputs": [
    {
     "name": "stdout",
     "output_type": "stream",
     "text": [
      "[0.54       0.53333333 0.52       0.58666667 0.51333333]\n",
      "[0.54666667 0.58       0.58       0.53333333 0.63333333]\n",
      "[0.58666667 0.58666667 0.58       0.59333333 0.58      ]\n"
     ]
    },
    {
     "data": {
      "image/png": "[encoded data removed]",
      "text/plain": [
       "<Figure size 432x288 with 1 Axes>"
      ]
     },
     "metadata": {
      "needs_background": "light"
     },
     "output_type": "display_data"
    },
    {
     "data": {
      "image/png": "[encoded data removed]",
      "text/plain": [
       "<Figure size 432x288 with 1 Axes>"
      ]
     },
     "metadata": {
      "needs_background": "light"
     },
     "output_type": "display_data"
    }
   ],
   "source": [
    "# ================ K-NN ==================\n",
    "accs_KNN = []\n",
    "stds_KNN = []\n",
    "times = []\n",
    "for i in range(len(percents)):\n",
    "    acc = np.zeros(5)\n",
    "    time_ = np.zeros(5)\n",
    "    for j in range(5):\n",
    "        c_train, c_labels = getPercentage(train, train_labels, percents[i])\n",
    "        c_train = c_train.transpose()\n",
    "        k = 7\n",
    "        start_time = time.clock()\n",
    "        ec, e , accu = KNN(k, c_train, c_labels, test_MxN, test_labels)\n",
    "        time_[j] = time.clock() - start_time\n",
    "        acc[j] = accu\n",
    "    print(acc)\n",
    "    mean = np.mean(acc)\n",
    "    std = np.std(acc)\n",
    "    accs_KNN.append(mean)\n",
    "    stds_KNN.append(std)\n",
    "    mean_t = np.mean(time_)\n",
    "    times.append(mean_t)\n",
    "#print(accs_KNN)\n",
    "#print(stds_KNN)\n",
    "fig = plt.figure(3)\n",
    "ax = fig.add_subplot(111)\n",
    "plt.plot(percents,accs_KNN)\n",
    "for xy in zip(percents, accs_KNN):                                       # <--\n",
    "    ax.annotate('%.2f' % xy[1], xy=xy, textcoords='data')\n",
    "plt.plot(percents,stds_KNN)\n",
    "for xy in zip(percents,stds_KNN):                                       # <--\n",
    "    ax.annotate('%.2f' % xy[1], xy=xy, textcoords='data')\n",
    "plt.title('FACES - k-NN Accuracy and Standard Deviation')\n",
    "plt.ylabel('value (acc or std)')\n",
    "plt.xlabel('percent')\n",
    "plt.legend(['mean accuracy','standard deviation'],loc='upper left')\n",
    "plt.show()\n",
    "\n",
    "fig2 = plt.figure(4)\n",
    "ax = fig2.add_subplot(111)\n",
    "plt.plot(percents,times)\n",
    "for xy in zip(percents, times):                                       # <--\n",
    "    ax.annotate('%.2f' % xy[1], xy=xy, textcoords='data')\n",
    "plt.title('FACES - k-NN Times')\n",
    "plt.ylabel('average time (seconds)')\n",
    "plt.xlabel('percent of data')\n",
    "plt.show()"
   ]
  },
  {
   "cell_type": "code",
   "execution_count": null,
   "metadata": {},
   "outputs": [],
   "source": []
  }
 ],
 "metadata": {
  "kernelspec": {
   "display_name": "Python 3",
   "language": "python",
   "name": "python3"
  },
  "language_info": {
   "codemirror_mode": {
    "name": "ipython",
    "version": 3
   },
   "file_extension": ".py",
   "mimetype": "text/x-python",
   "name": "python",
   "nbconvert_exporter": "python",
   "pygments_lexer": "ipython3",
   "version": "3.6.5"
  }
 },
 "nbformat": 4,
 "nbformat_minor": 2
}
